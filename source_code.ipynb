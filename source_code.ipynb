{
  "nbformat": 4,
  "nbformat_minor": 0,
  "metadata": {
    "colab": {
      "name": "malicious URL.ipynb",
      "provenance": [],
      "machine_shape": "hm"
    },
    "kernelspec": {
      "name": "python3",
      "display_name": "Python 3"
    }
  },
  "cells": [
    {
      "cell_type": "code",
      "metadata": {
        "id": "AANGoILskoQi",
        "colab_type": "code",
        "outputId": "17476b90-c37e-44a8-bce9-24091dbf19f7",
        "colab": {
          "base_uri": "https://localhost:8080/",
          "height": 677
        }
      },
      "source": [
        "import pickle\n",
        "import pandas as pd\n",
        "df = pd.read_csv('/content/drive/My Drive/data/data.csv')\n",
        "df.head(20)"
      ],
      "execution_count": 1,
      "outputs": [
        {
          "output_type": "execute_result",
          "data": {
            "text/html": [
              "<div>\n",
              "<style scoped>\n",
              "    .dataframe tbody tr th:only-of-type {\n",
              "        vertical-align: middle;\n",
              "    }\n",
              "\n",
              "    .dataframe tbody tr th {\n",
              "        vertical-align: top;\n",
              "    }\n",
              "\n",
              "    .dataframe thead th {\n",
              "        text-align: right;\n",
              "    }\n",
              "</style>\n",
              "<table border=\"1\" class=\"dataframe\">\n",
              "  <thead>\n",
              "    <tr style=\"text-align: right;\">\n",
              "      <th></th>\n",
              "      <th>url</th>\n",
              "      <th>label</th>\n",
              "    </tr>\n",
              "  </thead>\n",
              "  <tbody>\n",
              "    <tr>\n",
              "      <th>0</th>\n",
              "      <td>diaryofagameaddict.com</td>\n",
              "      <td>bad</td>\n",
              "    </tr>\n",
              "    <tr>\n",
              "      <th>1</th>\n",
              "      <td>espdesign.com.au</td>\n",
              "      <td>bad</td>\n",
              "    </tr>\n",
              "    <tr>\n",
              "      <th>2</th>\n",
              "      <td>iamagameaddict.com</td>\n",
              "      <td>bad</td>\n",
              "    </tr>\n",
              "    <tr>\n",
              "      <th>3</th>\n",
              "      <td>kalantzis.net</td>\n",
              "      <td>bad</td>\n",
              "    </tr>\n",
              "    <tr>\n",
              "      <th>4</th>\n",
              "      <td>slightlyoffcenter.net</td>\n",
              "      <td>bad</td>\n",
              "    </tr>\n",
              "    <tr>\n",
              "      <th>5</th>\n",
              "      <td>toddscarwash.com</td>\n",
              "      <td>bad</td>\n",
              "    </tr>\n",
              "    <tr>\n",
              "      <th>6</th>\n",
              "      <td>tubemoviez.com</td>\n",
              "      <td>bad</td>\n",
              "    </tr>\n",
              "    <tr>\n",
              "      <th>7</th>\n",
              "      <td>ipl.hk</td>\n",
              "      <td>bad</td>\n",
              "    </tr>\n",
              "    <tr>\n",
              "      <th>8</th>\n",
              "      <td>crackspider.us/toolbar/install.php?pack=exe</td>\n",
              "      <td>bad</td>\n",
              "    </tr>\n",
              "    <tr>\n",
              "      <th>9</th>\n",
              "      <td>pos-kupang.com/</td>\n",
              "      <td>bad</td>\n",
              "    </tr>\n",
              "    <tr>\n",
              "      <th>10</th>\n",
              "      <td>rupor.info</td>\n",
              "      <td>bad</td>\n",
              "    </tr>\n",
              "    <tr>\n",
              "      <th>11</th>\n",
              "      <td>svision-online.de/mgfi/administrator/component...</td>\n",
              "      <td>bad</td>\n",
              "    </tr>\n",
              "    <tr>\n",
              "      <th>12</th>\n",
              "      <td>officeon.ch.ma/office.js?google_ad_format=728x...</td>\n",
              "      <td>bad</td>\n",
              "    </tr>\n",
              "    <tr>\n",
              "      <th>13</th>\n",
              "      <td>sn-gzzx.com</td>\n",
              "      <td>bad</td>\n",
              "    </tr>\n",
              "    <tr>\n",
              "      <th>14</th>\n",
              "      <td>sunlux.net/company/about.html</td>\n",
              "      <td>bad</td>\n",
              "    </tr>\n",
              "    <tr>\n",
              "      <th>15</th>\n",
              "      <td>outporn.com</td>\n",
              "      <td>bad</td>\n",
              "    </tr>\n",
              "    <tr>\n",
              "      <th>16</th>\n",
              "      <td>timothycopus.aimoo.com</td>\n",
              "      <td>bad</td>\n",
              "    </tr>\n",
              "    <tr>\n",
              "      <th>17</th>\n",
              "      <td>xindalawyer.com</td>\n",
              "      <td>bad</td>\n",
              "    </tr>\n",
              "    <tr>\n",
              "      <th>18</th>\n",
              "      <td>freeserials.spb.ru/key/68703.htm</td>\n",
              "      <td>bad</td>\n",
              "    </tr>\n",
              "    <tr>\n",
              "      <th>19</th>\n",
              "      <td>deletespyware-adware.com</td>\n",
              "      <td>bad</td>\n",
              "    </tr>\n",
              "  </tbody>\n",
              "</table>\n",
              "</div>"
            ],
            "text/plain": [
              "                                                  url label\n",
              "0                              diaryofagameaddict.com   bad\n",
              "1                                    espdesign.com.au   bad\n",
              "2                                  iamagameaddict.com   bad\n",
              "3                                       kalantzis.net   bad\n",
              "4                               slightlyoffcenter.net   bad\n",
              "5                                    toddscarwash.com   bad\n",
              "6                                      tubemoviez.com   bad\n",
              "7                                              ipl.hk   bad\n",
              "8         crackspider.us/toolbar/install.php?pack=exe   bad\n",
              "9                                     pos-kupang.com/   bad\n",
              "10                                         rupor.info   bad\n",
              "11  svision-online.de/mgfi/administrator/component...   bad\n",
              "12  officeon.ch.ma/office.js?google_ad_format=728x...   bad\n",
              "13                                        sn-gzzx.com   bad\n",
              "14                      sunlux.net/company/about.html   bad\n",
              "15                                        outporn.com   bad\n",
              "16                             timothycopus.aimoo.com   bad\n",
              "17                                    xindalawyer.com   bad\n",
              "18                   freeserials.spb.ru/key/68703.htm   bad\n",
              "19                           deletespyware-adware.com   bad"
            ]
          },
          "metadata": {
            "tags": []
          },
          "execution_count": 1
        }
      ]
    },
    {
      "cell_type": "code",
      "metadata": {
        "id": "-vDVVdTkCxV9",
        "colab_type": "code",
        "colab": {}
      },
      "source": [
        "def add_http(x):\n",
        "  if(x[:4] == 'http'):\n",
        "    return x\n",
        "  return 'http://' + x"
      ],
      "execution_count": 0,
      "outputs": []
    },
    {
      "cell_type": "code",
      "metadata": {
        "id": "OPrdSMD_tLK9",
        "colab_type": "code",
        "colab": {}
      },
      "source": [
        "url_list = df['url'].map(add_http)\n",
        "labels = df['label']"
      ],
      "execution_count": 0,
      "outputs": []
    },
    {
      "cell_type": "code",
      "metadata": {
        "id": "fsCGVBmT-orY",
        "colab_type": "code",
        "colab": {}
      },
      "source": [
        "from urllib.parse import  urlparse"
      ],
      "execution_count": 0,
      "outputs": []
    },
    {
      "cell_type": "code",
      "metadata": {
        "id": "xhrvnLN3GAc-",
        "colab_type": "code",
        "colab": {}
      },
      "source": [
        "import re\n",
        "def netloc_extractor(x):\n",
        "  if(x[:4] != 'http'):\n",
        "    x = 'http://' + x\n",
        "  parsed_x = urlparse(x)\n",
        "  netloc = str(parsed_x.netloc)\n",
        "  netloc = netloc.replace(' ', '')\n",
        "  netloc = netloc.replace('.', ' ')\n",
        "  return netloc"
      ],
      "execution_count": 0,
      "outputs": []
    },
    {
      "cell_type": "code",
      "metadata": {
        "id": "didmlWAurL7N",
        "colab_type": "code",
        "colab": {}
      },
      "source": [
        "def path_extractor(x):\n",
        "  if(x[:4] != 'http'):\n",
        "    x = 'http://' + x\n",
        "  parsed = urlparse(x)\n",
        "  path = str(parsed.path)\n",
        "  path = path.replace(' ', '')\n",
        "  path = path.replace('/', ' ')\n",
        "  return path"
      ],
      "execution_count": 0,
      "outputs": []
    },
    {
      "cell_type": "code",
      "metadata": {
        "id": "3MKGEunhF1Gx",
        "colab_type": "code",
        "colab": {}
      },
      "source": [
        "netloc_list = df['url'].map(netloc_extractor)\n",
        "path_list = df['url'].map(path_extractor)"
      ],
      "execution_count": 0,
      "outputs": []
    },
    {
      "cell_type": "markdown",
      "metadata": {
        "id": "2fSQ8OWc21ZM",
        "colab_type": "text"
      },
      "source": [
        "Training using only Net Locations of the URL"
      ]
    },
    {
      "cell_type": "code",
      "metadata": {
        "id": "XyYkYXTR8zNG",
        "colab_type": "code",
        "colab": {}
      },
      "source": [
        "from sklearn.model_selection import train_test_split\n",
        "\n",
        "X_train, X_val, y_train, y_val = train_test_split(netloc_list, labels, test_size=0.33)"
      ],
      "execution_count": 0,
      "outputs": []
    },
    {
      "cell_type": "code",
      "metadata": {
        "id": "wN6I07K7BKYj",
        "colab_type": "code",
        "colab": {}
      },
      "source": [
        "from sklearn.feature_extraction.text import TfidfTransformer\n",
        "from sklearn.feature_extraction.text import TfidfVectorizer\n",
        "from sklearn.feature_extraction.text import CountVectorizer\n",
        "ngram_range = (1, 4)"
      ],
      "execution_count": 0,
      "outputs": []
    },
    {
      "cell_type": "code",
      "metadata": {
        "id": "qeKtsJvQ7_p7",
        "colab_type": "code",
        "colab": {}
      },
      "source": [
        "count_vect = CountVectorizer(ngram_range = ngram_range)\n",
        "train_bow = count_vect.fit_transform(X_train)\n",
        "val_bow = count_vect.transform(X_val)"
      ],
      "execution_count": 0,
      "outputs": []
    },
    {
      "cell_type": "code",
      "metadata": {
        "id": "ngBPVbVf9QSZ",
        "colab_type": "code",
        "colab": {}
      },
      "source": [
        "weights = {\n",
        "    'good':1,\n",
        "    'bad':5\n",
        "}"
      ],
      "execution_count": 0,
      "outputs": []
    },
    {
      "cell_type": "code",
      "metadata": {
        "id": "23ZoGXUw9bGJ",
        "colab_type": "code",
        "outputId": "fc099f3d-f1d1-4b7d-f466-277e8bffe0b3",
        "colab": {
          "base_uri": "https://localhost:8080/",
          "height": 109
        }
      },
      "source": [
        "from sklearn.linear_model import LogisticRegression\n",
        "model = LogisticRegression(penalty='l2', C=1.0, class_weight=weights, max_iter=10000, n_jobs=-1)\n",
        "model.fit(train_bow, y_train)"
      ],
      "execution_count": 12,
      "outputs": [
        {
          "output_type": "execute_result",
          "data": {
            "text/plain": [
              "LogisticRegression(C=1.0, class_weight={'bad': 5, 'good': 1}, dual=False,\n",
              "                   fit_intercept=True, intercept_scaling=1, l1_ratio=None,\n",
              "                   max_iter=10000, multi_class='auto', n_jobs=-1, penalty='l2',\n",
              "                   random_state=None, solver='lbfgs', tol=0.0001, verbose=0,\n",
              "                   warm_start=False)"
            ]
          },
          "metadata": {
            "tags": []
          },
          "execution_count": 12
        }
      ]
    },
    {
      "cell_type": "code",
      "metadata": {
        "id": "eeyQfDa0_SfG",
        "colab_type": "code",
        "colab": {}
      },
      "source": [
        "val_predictions = model.predict(val_bow)"
      ],
      "execution_count": 0,
      "outputs": []
    },
    {
      "cell_type": "code",
      "metadata": {
        "id": "AyreJkv99deB",
        "colab_type": "code",
        "outputId": "1ccf91a0-ef15-4e62-ed46-970a09243377",
        "colab": {
          "base_uri": "https://localhost:8080/",
          "height": 90
        }
      },
      "source": [
        "from sklearn.metrics import accuracy_score, f1_score, confusion_matrix, classification_report\n",
        "print(accuracy_score(y_val, val_predictions))\n",
        "print(f1_score(y_val, val_predictions, average='weighted'))\n",
        "print(confusion_matrix(y_val, val_predictions))"
      ],
      "execution_count": 14,
      "outputs": [
        {
          "output_type": "stream",
          "text": [
            "0.9600443951165372\n",
            "0.9592863575578532\n",
            "[[ 21252   3925]\n",
            " [  1619 111958]]\n"
          ],
          "name": "stdout"
        }
      ]
    },
    {
      "cell_type": "code",
      "metadata": {
        "id": "fSR5GdmVDQb7",
        "colab_type": "code",
        "colab": {}
      },
      "source": [
        "tfidf_vect = TfidfVectorizer(ngram_range=ngram_range)\n",
        "train_tfidf = tfidf_vect.fit_transform(X_train)\n",
        "val_tfidf = tfidf_vect.transform(X_val)"
      ],
      "execution_count": 0,
      "outputs": []
    },
    {
      "cell_type": "code",
      "metadata": {
        "id": "c14qfXd8U0Hk",
        "colab_type": "code",
        "colab": {}
      },
      "source": [
        "from sklearn.preprocessing import StandardScaler\n",
        "sc = StandardScaler(with_mean = False)\n",
        "x_train = sc.fit_transform(train_tfidf)\n",
        "x_val = sc.transform(val_tfidf)"
      ],
      "execution_count": 0,
      "outputs": []
    },
    {
      "cell_type": "code",
      "metadata": {
        "id": "6YwDNYbLVEp3",
        "colab_type": "code",
        "outputId": "5c8f4560-2aed-403b-c73b-253a1d7c98cd",
        "colab": {
          "base_uri": "https://localhost:8080/",
          "height": 109
        }
      },
      "source": [
        "from sklearn.linear_model import LogisticRegression\n",
        "model = LogisticRegression(penalty='l2', C=1.0, class_weight=weights, max_iter=10000, n_jobs=-1)\n",
        "model.fit(x_train, y_train)"
      ],
      "execution_count": 17,
      "outputs": [
        {
          "output_type": "execute_result",
          "data": {
            "text/plain": [
              "LogisticRegression(C=1.0, class_weight={'bad': 5, 'good': 1}, dual=False,\n",
              "                   fit_intercept=True, intercept_scaling=1, l1_ratio=None,\n",
              "                   max_iter=10000, multi_class='auto', n_jobs=-1, penalty='l2',\n",
              "                   random_state=None, solver='lbfgs', tol=0.0001, verbose=0,\n",
              "                   warm_start=False)"
            ]
          },
          "metadata": {
            "tags": []
          },
          "execution_count": 17
        }
      ]
    },
    {
      "cell_type": "code",
      "metadata": {
        "id": "kYg4PoH1VLRi",
        "colab_type": "code",
        "outputId": "0a05c552-49ad-4fae-fd5a-b4805a66f966",
        "colab": {
          "base_uri": "https://localhost:8080/",
          "height": 90
        }
      },
      "source": [
        "val_predictions = model.predict(x_val)\n",
        "print(accuracy_score(y_val, val_predictions))\n",
        "print(f1_score(y_val, val_predictions, average='weighted'))\n",
        "print(confusion_matrix(y_val, val_predictions))"
      ],
      "execution_count": 18,
      "outputs": [
        {
          "output_type": "stream",
          "text": [
            "0.8607751848595356\n",
            "0.8727339131724589\n",
            "[[24042  1135]\n",
            " [18183 95394]]\n"
          ],
          "name": "stdout"
        }
      ]
    },
    {
      "cell_type": "markdown",
      "metadata": {
        "id": "GsamCyfR3BB7",
        "colab_type": "text"
      },
      "source": [
        "Adding Path to the netlocation to see if'it helps with the accuracy"
      ]
    },
    {
      "cell_type": "code",
      "metadata": {
        "id": "k7VOg1w0sAng",
        "colab_type": "code",
        "colab": {}
      },
      "source": [
        "total_address = []\n",
        "for i in range(len(netloc_list)):\n",
        "  if(path_list[i] != ''):\n",
        "    add = netloc_list[i] + ' ' + path_list[i]\n",
        "  else:\n",
        "    add = netloc_list[i]\n",
        "  total_address.append(add)"
      ],
      "execution_count": 0,
      "outputs": []
    },
    {
      "cell_type": "code",
      "metadata": {
        "id": "J7LvJxl7sySk",
        "colab_type": "code",
        "colab": {}
      },
      "source": [
        "from sklearn.model_selection import train_test_split\n",
        "import numpy as np\n",
        "X_train, X_val, y_train, y_val = train_test_split(np.array(total_address), labels, test_size=0.33)"
      ],
      "execution_count": 0,
      "outputs": []
    },
    {
      "cell_type": "code",
      "metadata": {
        "id": "rPDzNVc4tol1",
        "colab_type": "code",
        "colab": {}
      },
      "source": [
        "count_vect = CountVectorizer(ngram_range=ngram_range)\n",
        "train_bow = count_vect.fit_transform(X_train)\n",
        "val_bow = count_vect.transform(X_val)"
      ],
      "execution_count": 0,
      "outputs": []
    },
    {
      "cell_type": "code",
      "metadata": {
        "id": "AYyh0uURtuAX",
        "colab_type": "code",
        "outputId": "a4dd5ac6-3613-458c-8f8f-ed56133a9bad",
        "colab": {
          "base_uri": "https://localhost:8080/",
          "height": 109
        }
      },
      "source": [
        "from sklearn.linear_model import LogisticRegression\n",
        "model = LogisticRegression(penalty='l2', C=1.0, class_weight=weights, max_iter=10000, n_jobs=-1)\n",
        "model.fit(train_bow, y_train)"
      ],
      "execution_count": 22,
      "outputs": [
        {
          "output_type": "execute_result",
          "data": {
            "text/plain": [
              "LogisticRegression(C=1.0, class_weight={'bad': 5, 'good': 1}, dual=False,\n",
              "                   fit_intercept=True, intercept_scaling=1, l1_ratio=None,\n",
              "                   max_iter=10000, multi_class='auto', n_jobs=-1, penalty='l2',\n",
              "                   random_state=None, solver='lbfgs', tol=0.0001, verbose=0,\n",
              "                   warm_start=False)"
            ]
          },
          "metadata": {
            "tags": []
          },
          "execution_count": 22
        }
      ]
    },
    {
      "cell_type": "code",
      "metadata": {
        "id": "s-L7z5jDt7bt",
        "colab_type": "code",
        "outputId": "3131128d-5172-4835-93d3-d8e1347bdb2b",
        "colab": {
          "base_uri": "https://localhost:8080/",
          "height": 90
        }
      },
      "source": [
        "val_predictions = model.predict(val_bow)\n",
        "print(accuracy_score(y_val, val_predictions))\n",
        "print(f1_score(y_val, val_predictions, average='weighted'))\n",
        "print(confusion_matrix(y_val, val_predictions))"
      ],
      "execution_count": 23,
      "outputs": [
        {
          "output_type": "stream",
          "text": [
            "0.9755898929039883\n",
            "0.9752649595550051\n",
            "[[ 22387   2505]\n",
            " [   882 112980]]\n"
          ],
          "name": "stdout"
        }
      ]
    },
    {
      "cell_type": "code",
      "metadata": {
        "id": "T07srJerun8I",
        "colab_type": "code",
        "colab": {}
      },
      "source": [
        "tfidf_vect = TfidfVectorizer(ngram_range=ngram_range)\n",
        "train_tfidf = tfidf_vect.fit_transform(X_train)\n",
        "val_tfidf = tfidf_vect.transform(X_val)"
      ],
      "execution_count": 0,
      "outputs": []
    },
    {
      "cell_type": "code",
      "metadata": {
        "id": "PxOhXLy_vyEn",
        "colab_type": "code",
        "colab": {}
      },
      "source": [
        "from sklearn.preprocessing import StandardScaler\n",
        "sc = StandardScaler(with_mean = False)\n",
        "x_train = sc.fit_transform(train_tfidf)\n",
        "x_val = sc.transform(val_tfidf)"
      ],
      "execution_count": 0,
      "outputs": []
    },
    {
      "cell_type": "code",
      "metadata": {
        "id": "vTnK52kHvzsG",
        "colab_type": "code",
        "outputId": "e1fcec77-3f17-45c0-8154-4badbfc7c541",
        "colab": {
          "base_uri": "https://localhost:8080/",
          "height": 109
        }
      },
      "source": [
        "from sklearn.linear_model import LogisticRegression\n",
        "model = LogisticRegression(penalty='l2', C=1.0, class_weight=weights, max_iter=10000, n_jobs=-1)\n",
        "model.fit(x_train, y_train)"
      ],
      "execution_count": 26,
      "outputs": [
        {
          "output_type": "execute_result",
          "data": {
            "text/plain": [
              "LogisticRegression(C=1.0, class_weight={'bad': 5, 'good': 1}, dual=False,\n",
              "                   fit_intercept=True, intercept_scaling=1, l1_ratio=None,\n",
              "                   max_iter=10000, multi_class='auto', n_jobs=-1, penalty='l2',\n",
              "                   random_state=None, solver='lbfgs', tol=0.0001, verbose=0,\n",
              "                   warm_start=False)"
            ]
          },
          "metadata": {
            "tags": []
          },
          "execution_count": 26
        }
      ]
    },
    {
      "cell_type": "code",
      "metadata": {
        "id": "ffRO92NIv1Cw",
        "colab_type": "code",
        "outputId": "9df1401b-85e7-4271-b2c6-b9c6bf436d30",
        "colab": {
          "base_uri": "https://localhost:8080/",
          "height": 90
        }
      },
      "source": [
        "val_predictions = model.predict(x_val)\n",
        "print(accuracy_score(y_val, val_predictions))\n",
        "print(f1_score(y_val, val_predictions, average='weighted'))\n",
        "print(confusion_matrix(y_val, val_predictions))"
      ],
      "execution_count": 27,
      "outputs": [
        {
          "output_type": "stream",
          "text": [
            "0.9794240166049267\n",
            "0.9790469825921917\n",
            "[[ 22365   2527]\n",
            " [   328 113534]]\n"
          ],
          "name": "stdout"
        }
      ]
    },
    {
      "cell_type": "code",
      "metadata": {
        "id": "22Z-scf8YHJI",
        "colab_type": "code",
        "colab": {}
      },
      "source": [
        "filename = 'best_acc_wtih.sav'\n",
        "pickle.dump(model, open(filename, 'wb'))\n",
        "filename = 'best_acc_with_tfidf.sav'\n",
        "pickle.dump(tfidf_vect, open(filename, 'wb'))\n",
        "filename = 'best_acc_with_sc.sav'\n",
        "pickle.dump(sc, open(filename, 'wb'))"
      ],
      "execution_count": 0,
      "outputs": []
    },
    {
      "cell_type": "code",
      "metadata": {
        "id": "Vp5Mcxqnv2xH",
        "colab_type": "code",
        "colab": {}
      },
      "source": [
        "# for single image\n",
        "def preprocess_url(x):\n",
        "  netloc = netloc_extractor(x)\n",
        "  path = path_extractor(x)\n",
        "  if path != '':  final = netloc + ' ' + path\n",
        "  else: final = netloc\n",
        "  vec = tfidf_vect.transform([final])\n",
        "  x_test = sc.transform(vec)\n",
        "  return x_test"
      ],
      "execution_count": 0,
      "outputs": []
    },
    {
      "cell_type": "code",
      "metadata": {
        "id": "OEULid24A7El",
        "colab_type": "code",
        "colab": {
          "base_uri": "https://localhost:8080/",
          "height": 35
        },
        "outputId": "484d0600-32fa-407f-b6c4-b15c04fad05c"
      },
      "source": [
        "prediction = model.predict(preprocess_url('virus.com'))\n",
        "prediction"
      ],
      "execution_count": 30,
      "outputs": [
        {
          "output_type": "execute_result",
          "data": {
            "text/plain": [
              "array(['good'], dtype=object)"
            ]
          },
          "metadata": {
            "tags": []
          },
          "execution_count": 30
        }
      ]
    },
    {
      "cell_type": "markdown",
      "metadata": {
        "id": "fKNwyOwrVXfv",
        "colab_type": "text"
      },
      "source": [
        "Removing the last part like com, ru, as they seem to have dominating effect on the result"
      ]
    },
    {
      "cell_type": "code",
      "metadata": {
        "id": "a9ATYnRYBFJ2",
        "colab_type": "code",
        "colab": {}
      },
      "source": [
        "import re\n",
        "def netloc_extractor(x):\n",
        "  if(x[:4] != 'http'):\n",
        "    x = 'http://' + x\n",
        "  parsed_x = urlparse(x)\n",
        "  netloc = str(parsed_x.netloc)\n",
        "  netloc = netloc.replace(' ', '')\n",
        "  netloc = netloc.replace('.', ' ')\n",
        "  lst = netloc.split(' ')\n",
        "  final = lst[0]\n",
        "  for i in range(1, len(lst) - 1):\n",
        "    final = final + ' ' + lst[i]\n",
        "  return final"
      ],
      "execution_count": 0,
      "outputs": []
    },
    {
      "cell_type": "code",
      "metadata": {
        "id": "KfiI9wOpRAu3",
        "colab_type": "code",
        "colab": {}
      },
      "source": [
        "netloc_list = df['url'].map(netloc_extractor)\n",
        "path_list = df['url'].map(path_extractor)"
      ],
      "execution_count": 0,
      "outputs": []
    },
    {
      "cell_type": "code",
      "metadata": {
        "id": "3LIeYSlcRDMV",
        "colab_type": "code",
        "colab": {}
      },
      "source": [
        "from sklearn.model_selection import train_test_split\n",
        "\n",
        "X_train, X_val, y_train, y_val = train_test_split(netloc_list, labels, test_size=0.33)"
      ],
      "execution_count": 0,
      "outputs": []
    },
    {
      "cell_type": "code",
      "metadata": {
        "id": "GEN4UzygRGii",
        "colab_type": "code",
        "colab": {}
      },
      "source": [
        "count_vect = CountVectorizer(ngram_range = ngram_range)\n",
        "train_bow = count_vect.fit_transform(X_train)\n",
        "val_bow = count_vect.transform(X_val)"
      ],
      "execution_count": 0,
      "outputs": []
    },
    {
      "cell_type": "code",
      "metadata": {
        "id": "kClgBcJ4RJRO",
        "colab_type": "code",
        "colab": {
          "base_uri": "https://localhost:8080/",
          "height": 109
        },
        "outputId": "5f5a7b6d-758d-462f-a139-b27ad9503b74"
      },
      "source": [
        "from sklearn.linear_model import LogisticRegression\n",
        "model = LogisticRegression(penalty='l2', C=1.0, class_weight=weights, max_iter=10000, n_jobs=-1)\n",
        "model.fit(train_bow, y_train)"
      ],
      "execution_count": 35,
      "outputs": [
        {
          "output_type": "execute_result",
          "data": {
            "text/plain": [
              "LogisticRegression(C=1.0, class_weight={'bad': 5, 'good': 1}, dual=False,\n",
              "                   fit_intercept=True, intercept_scaling=1, l1_ratio=None,\n",
              "                   max_iter=10000, multi_class='auto', n_jobs=-1, penalty='l2',\n",
              "                   random_state=None, solver='lbfgs', tol=0.0001, verbose=0,\n",
              "                   warm_start=False)"
            ]
          },
          "metadata": {
            "tags": []
          },
          "execution_count": 35
        }
      ]
    },
    {
      "cell_type": "code",
      "metadata": {
        "id": "u0frDctbRLJe",
        "colab_type": "code",
        "colab": {
          "base_uri": "https://localhost:8080/",
          "height": 90
        },
        "outputId": "e53bbe7d-a0da-4843-ed9d-38dc62df5345"
      },
      "source": [
        "val_predictions = model.predict(val_bow)\n",
        "from sklearn.metrics import accuracy_score, f1_score, confusion_matrix, classification_report\n",
        "print(accuracy_score(y_val, val_predictions))\n",
        "print(f1_score(y_val, val_predictions, average='weighted'))\n",
        "print(confusion_matrix(y_val, val_predictions))"
      ],
      "execution_count": 36,
      "outputs": [
        {
          "output_type": "stream",
          "text": [
            "0.9467763091514478\n",
            "0.9447505790500204\n",
            "[[ 19304   5877]\n",
            " [  1508 112065]]\n"
          ],
          "name": "stdout"
        }
      ]
    },
    {
      "cell_type": "code",
      "metadata": {
        "id": "Q4uCJodmRMwY",
        "colab_type": "code",
        "colab": {}
      },
      "source": [
        "tfidf_vect = TfidfVectorizer(ngram_range=ngram_range)\n",
        "train_tfidf = tfidf_vect.fit_transform(X_train)\n",
        "val_tfidf = tfidf_vect.transform(X_val)"
      ],
      "execution_count": 0,
      "outputs": []
    },
    {
      "cell_type": "code",
      "metadata": {
        "id": "aW-I2Z7URRe5",
        "colab_type": "code",
        "colab": {}
      },
      "source": [
        "from sklearn.preprocessing import StandardScaler\n",
        "sc = StandardScaler(with_mean = False)\n",
        "x_train = sc.fit_transform(train_tfidf)\n",
        "x_val = sc.transform(val_tfidf)"
      ],
      "execution_count": 0,
      "outputs": []
    },
    {
      "cell_type": "code",
      "metadata": {
        "id": "dzauOeNURTWN",
        "colab_type": "code",
        "colab": {
          "base_uri": "https://localhost:8080/",
          "height": 109
        },
        "outputId": "9ac05105-820f-4f9b-f6ef-18cc62c73988"
      },
      "source": [
        "from sklearn.linear_model import LogisticRegression\n",
        "model = LogisticRegression(penalty='l2', C=1.0, class_weight=weights, max_iter=10000, n_jobs=-1)\n",
        "model.fit(x_train, y_train)"
      ],
      "execution_count": 39,
      "outputs": [
        {
          "output_type": "execute_result",
          "data": {
            "text/plain": [
              "LogisticRegression(C=1.0, class_weight={'bad': 5, 'good': 1}, dual=False,\n",
              "                   fit_intercept=True, intercept_scaling=1, l1_ratio=None,\n",
              "                   max_iter=10000, multi_class='auto', n_jobs=-1, penalty='l2',\n",
              "                   random_state=None, solver='lbfgs', tol=0.0001, verbose=0,\n",
              "                   warm_start=False)"
            ]
          },
          "metadata": {
            "tags": []
          },
          "execution_count": 39
        }
      ]
    },
    {
      "cell_type": "code",
      "metadata": {
        "id": "U_QS1yeIRWZ_",
        "colab_type": "code",
        "colab": {
          "base_uri": "https://localhost:8080/",
          "height": 90
        },
        "outputId": "484a6f82-00bb-4573-8746-8780f3ffac81"
      },
      "source": [
        "val_predictions = model.predict(x_val)\n",
        "print(accuracy_score(y_val, val_predictions))\n",
        "print(f1_score(y_val, val_predictions, average='weighted'))\n",
        "print(confusion_matrix(y_val, val_predictions))"
      ],
      "execution_count": 40,
      "outputs": [
        {
          "output_type": "stream",
          "text": [
            "0.8479827608573447\n",
            "0.8619476331380486\n",
            "[[24239   942]\n",
            " [20151 93422]]\n"
          ],
          "name": "stdout"
        }
      ]
    },
    {
      "cell_type": "code",
      "metadata": {
        "id": "dKX_RUW8RYxx",
        "colab_type": "code",
        "colab": {}
      },
      "source": [
        "total_address = []\n",
        "for i in range(len(netloc_list)):\n",
        "  if(path_list[i] != ''):\n",
        "    add = netloc_list[i] + ' ' + path_list[i]\n",
        "  else:\n",
        "    add = netloc_list[i]\n",
        "  total_address.append(add)"
      ],
      "execution_count": 0,
      "outputs": []
    },
    {
      "cell_type": "code",
      "metadata": {
        "id": "K0VK7MkARavN",
        "colab_type": "code",
        "colab": {}
      },
      "source": [
        "from sklearn.model_selection import train_test_split\n",
        "import numpy as np\n",
        "X_train, X_val, y_train, y_val = train_test_split(np.array(total_address), labels, test_size=0.33)"
      ],
      "execution_count": 0,
      "outputs": []
    },
    {
      "cell_type": "code",
      "metadata": {
        "id": "LQM48buURecW",
        "colab_type": "code",
        "colab": {}
      },
      "source": [
        "count_vect = CountVectorizer(ngram_range=ngram_range)\n",
        "train_bow = count_vect.fit_transform(X_train)\n",
        "val_bow = count_vect.transform(X_val)"
      ],
      "execution_count": 0,
      "outputs": []
    },
    {
      "cell_type": "code",
      "metadata": {
        "id": "a-fpItDHRgJa",
        "colab_type": "code",
        "colab": {
          "base_uri": "https://localhost:8080/",
          "height": 109
        },
        "outputId": "4ac7e160-7151-4db4-e260-af03c671e63a"
      },
      "source": [
        "from sklearn.linear_model import LogisticRegression\n",
        "model = LogisticRegression(penalty='l2', C=1.0, class_weight=weights, max_iter=10000, n_jobs=-1)\n",
        "model.fit(train_bow, y_train)"
      ],
      "execution_count": 44,
      "outputs": [
        {
          "output_type": "execute_result",
          "data": {
            "text/plain": [
              "LogisticRegression(C=1.0, class_weight={'bad': 5, 'good': 1}, dual=False,\n",
              "                   fit_intercept=True, intercept_scaling=1, l1_ratio=None,\n",
              "                   max_iter=10000, multi_class='auto', n_jobs=-1, penalty='l2',\n",
              "                   random_state=None, solver='lbfgs', tol=0.0001, verbose=0,\n",
              "                   warm_start=False)"
            ]
          },
          "metadata": {
            "tags": []
          },
          "execution_count": 44
        }
      ]
    },
    {
      "cell_type": "code",
      "metadata": {
        "id": "IjXpaka0Rh8N",
        "colab_type": "code",
        "colab": {
          "base_uri": "https://localhost:8080/",
          "height": 90
        },
        "outputId": "b3b71fcd-de4c-4f44-88cf-5834ef06bb85"
      },
      "source": [
        "val_predictions = model.predict(val_bow)\n",
        "print(accuracy_score(y_val, val_predictions))\n",
        "print(f1_score(y_val, val_predictions, average='weighted'))\n",
        "print(confusion_matrix(y_val, val_predictions))"
      ],
      "execution_count": 45,
      "outputs": [
        {
          "output_type": "stream",
          "text": [
            "0.9698963633480837\n",
            "0.9692582457229083\n",
            "[[ 21755   3364]\n",
            " [   813 112822]]\n"
          ],
          "name": "stdout"
        }
      ]
    },
    {
      "cell_type": "code",
      "metadata": {
        "id": "WF_eRf65X5YX",
        "colab_type": "code",
        "colab": {}
      },
      "source": [
        "filename = 'best_acc.sav'\n",
        "pickle.dump(model, open(filename, 'wb'))\n",
        "filename = 'best_acc_bow.sav'\n",
        "pickle.dump(count_vect, open(filename, 'wb'))"
      ],
      "execution_count": 0,
      "outputs": []
    },
    {
      "cell_type": "code",
      "metadata": {
        "id": "bWIiNDCNRkFX",
        "colab_type": "code",
        "colab": {}
      },
      "source": [
        "tfidf_vect = TfidfVectorizer(ngram_range=ngram_range)\n",
        "train_tfidf = tfidf_vect.fit_transform(X_train)\n",
        "val_tfidf = tfidf_vect.transform(X_val)"
      ],
      "execution_count": 0,
      "outputs": []
    },
    {
      "cell_type": "code",
      "metadata": {
        "id": "Y09GezHCRl6O",
        "colab_type": "code",
        "colab": {}
      },
      "source": [
        "from sklearn.preprocessing import StandardScaler\n",
        "sc = StandardScaler(with_mean = False)\n",
        "x_train = sc.fit_transform(train_tfidf)\n",
        "x_val = sc.transform(val_tfidf)"
      ],
      "execution_count": 0,
      "outputs": []
    },
    {
      "cell_type": "code",
      "metadata": {
        "id": "YqaQ900zRnrF",
        "colab_type": "code",
        "colab": {
          "base_uri": "https://localhost:8080/",
          "height": 109
        },
        "outputId": "120cd8f8-8a8c-4323-c769-6d6aa9e22850"
      },
      "source": [
        "from sklearn.linear_model import LogisticRegression\n",
        "model = LogisticRegression(penalty='l2', C=1.0, class_weight=weights, max_iter=10000, n_jobs=-1)\n",
        "model.fit(x_train, y_train)"
      ],
      "execution_count": 49,
      "outputs": [
        {
          "output_type": "execute_result",
          "data": {
            "text/plain": [
              "LogisticRegression(C=1.0, class_weight={'bad': 5, 'good': 1}, dual=False,\n",
              "                   fit_intercept=True, intercept_scaling=1, l1_ratio=None,\n",
              "                   max_iter=10000, multi_class='auto', n_jobs=-1, penalty='l2',\n",
              "                   random_state=None, solver='lbfgs', tol=0.0001, verbose=0,\n",
              "                   warm_start=False)"
            ]
          },
          "metadata": {
            "tags": []
          },
          "execution_count": 49
        }
      ]
    },
    {
      "cell_type": "code",
      "metadata": {
        "id": "gc6rZJAPRp_1",
        "colab_type": "code",
        "colab": {
          "base_uri": "https://localhost:8080/",
          "height": 90
        },
        "outputId": "6aa6b323-e5f9-42b9-8549-4df9613c3661"
      },
      "source": [
        "val_predictions = model.predict(x_val)\n",
        "print(accuracy_score(y_val, val_predictions))\n",
        "print(f1_score(y_val, val_predictions, average='weighted'))\n",
        "print(confusion_matrix(y_val, val_predictions))"
      ],
      "execution_count": 50,
      "outputs": [
        {
          "output_type": "stream",
          "text": [
            "0.9286651195641207\n",
            "0.9321171404430025\n",
            "[[ 23969   1150]\n",
            " [  8748 104887]]\n"
          ],
          "name": "stdout"
        }
      ]
    },
    {
      "cell_type": "code",
      "metadata": {
        "id": "c0VwG-FDW-WL",
        "colab_type": "code",
        "colab": {}
      },
      "source": [
        "filename = 'best_bad.sav'\n",
        "pickle.dump(model, open(filename, 'wb'))\n",
        "filename = 'best_bad_tfidf.sav'\n",
        "pickle.dump(tfidf_vect, open(filename, 'wb'))\n",
        "filename = 'best_bad_sc.sav'\n",
        "pickle.dump(sc, open(filename, 'wb'))"
      ],
      "execution_count": 0,
      "outputs": []
    },
    {
      "cell_type": "code",
      "metadata": {
        "id": "Uhj5K2azRrrl",
        "colab_type": "code",
        "colab": {}
      },
      "source": [
        "# for single image\n",
        "def preprocess_url(x):\n",
        "  netloc = netloc_extractor(x)\n",
        "  path = path_extractor(x)\n",
        "  if path != '':  final = netloc + ' ' + path\n",
        "  else: final = netloc\n",
        "  vec = tfidf_vect.transform([final])\n",
        "  x_test = sc.transform(vec)\n",
        "  return x_test"
      ],
      "execution_count": 0,
      "outputs": []
    },
    {
      "cell_type": "code",
      "metadata": {
        "id": "yCDOkDiVRtBg",
        "colab_type": "code",
        "colab": {
          "base_uri": "https://localhost:8080/",
          "height": 35
        },
        "outputId": "da281712-df47-4898-eb7c-0f61aa08a82f"
      },
      "source": [
        "prediction = model.predict(preprocess_url('virus.com'))\n",
        "prediction"
      ],
      "execution_count": 53,
      "outputs": [
        {
          "output_type": "execute_result",
          "data": {
            "text/plain": [
              "array(['bad'], dtype=object)"
            ]
          },
          "metadata": {
            "tags": []
          },
          "execution_count": 53
        }
      ]
    }
  ]
}